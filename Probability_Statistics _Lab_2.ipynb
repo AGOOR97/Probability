{
 "cells": [
  {
   "cell_type": "markdown",
   "metadata": {},
   "source": [
    "## By : Mohammed Agoor\n",
    "\n",
    "Git : https://github.com/AGOOR97"
   ]
  },
  {
   "cell_type": "markdown",
   "metadata": {},
   "source": [
    "# LAB 2: Indepdenece and Random Variables\n",
    "\n",
    "In this lab you will use python to study the following topics:\n",
    "\n",
    "- Simulate independent events.\n",
    "- Calculate arthemitic mean, sample variance, and sample standard deviation for a dataset."
   ]
  },
  {
   "cell_type": "markdown",
   "metadata": {},
   "source": [
    "# First: you should run this cell"
   ]
  },
  {
   "cell_type": "code",
   "execution_count": 241,
   "metadata": {},
   "outputs": [],
   "source": [
    "# Make all numpy available via shorter 'np' prefix\n",
    "import numpy as np\n",
    "\n",
    "# matplotlib library\n",
    "import matplotlib.pyplot as plt"
   ]
  },
  {
   "cell_type": "markdown",
   "metadata": {},
   "source": [
    "# Problem 1\n",
    "\n",
    "Use NumPy to create simulations and compute **empirical  probability** for the following outcomes. Compare the results with the **theoretical probability**.\n",
    "\n",
    "1. Two fair coin flips produce exactly two heads"
   ]
  },
  {
   "cell_type": "code",
   "execution_count": 33,
   "metadata": {},
   "outputs": [
    {
     "name": "stdout",
     "output_type": "stream",
     "text": [
      "final Result is : \n",
      " 0.24799196787148595\n",
      "============================================================\n"
     ]
    },
    {
     "data": {
      "text/plain": [
       "[<matplotlib.lines.Line2D at 0x175d90ad2b0>]"
      ]
     },
     "execution_count": 33,
     "metadata": {},
     "output_type": "execute_result"
    },
    {
     "data": {
      "image/png": "[encoded data removed]",
      "text/plain": [
       "<Figure size 432x288 with 1 Axes>"
      ]
     },
     "metadata": {
      "needs_background": "light"
     },
     "output_type": "display_data"
    }
   ],
   "source": [
    "# H = 1 , T = 0\n",
    "\n",
    "a = np.random.randint(2,size=1000)\n",
    "b = np.random.randint(2,size=1000)\n",
    "\n",
    "k = 0\n",
    "arr = []\n",
    "for i in range(len(a)):\n",
    "    if a[i] == b[i] and a[i] == 1 and b[i] == 1:\n",
    "        k+=1\n",
    "        val = k/(i+1)\n",
    "        arr.append(val)\n",
    "\n",
    "\n",
    "print('final Result is : \\n',arr[-1])\n",
    "print('=='*30)\n",
    "plt.plot(arr)\n"
   ]
  },
  {
   "cell_type": "code",
   "execution_count": null,
   "metadata": {},
   "outputs": [],
   "source": []
  },
  {
   "cell_type": "code",
   "execution_count": 2,
   "metadata": {},
   "outputs": [
    {
     "data": {
      "text/plain": [
       "0.249552"
      ]
     },
     "execution_count": 2,
     "metadata": {},
     "output_type": "execute_result"
    }
   ],
   "source": [
    "#type your code here:\n",
    "\n"
   ]
  },
  {
   "cell_type": "markdown",
   "metadata": {},
   "source": [
    "2. Three fair coin flips produce exactly one head"
   ]
  },
  {
   "cell_type": "code",
   "execution_count": 49,
   "metadata": {},
   "outputs": [
    {
     "name": "stdout",
     "output_type": "stream",
     "text": [
      "final Result is : \n",
      " 0.379\n",
      "============================================================\n"
     ]
    },
    {
     "data": {
      "text/plain": [
       "[<matplotlib.lines.Line2D at 0x175da7590d0>]"
      ]
     },
     "execution_count": 49,
     "metadata": {},
     "output_type": "execute_result"
    },
    {
     "data": {
      "image/png": "[encoded data removed]",
      "text/plain": [
       "<Figure size 432x288 with 1 Axes>"
      ]
     },
     "metadata": {
      "needs_background": "light"
     },
     "output_type": "display_data"
    }
   ],
   "source": [
    "a1 = np.random.randint(2,size=1000)\n",
    "a2 = np.random.randint(2,size=1000)\n",
    "a3 = np.random.randint(2,size=1000)\n",
    "\n",
    "e = 0\n",
    "mat = []\n",
    "\n",
    "for i in range(len(a1)):\n",
    "    if a1[i] == 1 and a2[i] != 1 and a3[i] != 1:\n",
    "        e+=1\n",
    "        val = e/(i+1)\n",
    "        mat.append(val)\n",
    "        \n",
    "    if a1[i] != 1 and a2[i] == 1 and a3[i] != 1:\n",
    "        e+=1\n",
    "        val = e/(i+1)\n",
    "        mat.append(val)\n",
    "        \n",
    "    if a1[i] != 1 and a2[i] != 1 and a3[i] == 1:\n",
    "        e+=1\n",
    "        val = e/(i+1)\n",
    "        mat.append(val)\n",
    "        \n",
    "req_prob = e/len(a1)\n",
    "\n",
    "print('final Result is : \\n' , req_prob)\n",
    "print('===' *20)\n",
    "plt.plot(mat)"
   ]
  },
  {
   "cell_type": "code",
   "execution_count": null,
   "metadata": {},
   "outputs": [],
   "source": []
  },
  {
   "cell_type": "code",
   "execution_count": 3,
   "metadata": {},
   "outputs": [
    {
     "data": {
      "text/plain": [
       "0.374306"
      ]
     },
     "execution_count": 3,
     "metadata": {},
     "output_type": "execute_result"
    }
   ],
   "source": [
    "#type your code here:\n",
    "\n"
   ]
  },
  {
   "cell_type": "markdown",
   "metadata": {},
   "source": [
    "3. Three biased coin flips with P(H) = 0.6 produce exactly one head"
   ]
  },
  {
   "cell_type": "code",
   "execution_count": 65,
   "metadata": {},
   "outputs": [],
   "source": [
    "import random"
   ]
  },
  {
   "cell_type": "code",
   "execution_count": 183,
   "metadata": {},
   "outputs": [
    {
     "name": "stdout",
     "output_type": "stream",
     "text": [
      "final Result is : .. \n",
      " 0.2886\n",
      "============================================================\n",
      "final Result is : .. \n",
      " 0.2886866059817945\n"
     ]
    },
    {
     "data": {
      "text/plain": [
       "[<matplotlib.lines.Line2D at 0x175dadb5cd0>]"
      ]
     },
     "execution_count": 183,
     "metadata": {},
     "output_type": "execute_result"
    },
    {
     "data": {
      "image/png": "[encoded data removed]",
      "text/plain": [
       "<Figure size 432x288 with 1 Axes>"
      ]
     },
     "metadata": {
      "needs_background": "light"
     },
     "output_type": "display_data"
    }
   ],
   "source": [
    "def coin_1(p):\n",
    "    return random.random() <= p\n",
    "def coin_2(p):\n",
    "    return random.random() <= p\n",
    "def coin_3(p):\n",
    "    return random.random() <= p\n",
    "\n",
    "c_head = 0\n",
    "c_tail = 0\n",
    "\n",
    "loop_range = 10000\n",
    "arr = []\n",
    "\n",
    "for i in range(loop_range):\n",
    "    if coin_1(0.6) and not coin_2(0.6) and not coin_3(0.6):    # only one Head (H,T,T)\n",
    "        c_head+=1\n",
    "        val = c_head/(i+1)\n",
    "        \n",
    "    if not coin_1(0.6) and coin_2(0.6) and not coin_3(0.6):    # only one Head (T,H,T)\n",
    "        c_head+=1\n",
    "        val = c_head/(i+1)\n",
    "        \n",
    "    if not coin_1(0.6) and not coin_2(0.6) and coin_3(0.6):    # only one Head (T,T,H)\n",
    "        c_head+=1\n",
    "        val = c_head/(i+1)\n",
    "    arr.append(val)\n",
    "    \n",
    "    \n",
    "result = c_head/loop_range      \n",
    "print('final Result is : .. \\n' , result)  \n",
    "\n",
    "print('===='*15)\n",
    "   \n",
    "print('final Result is : .. \\n' , arr[-1])  \n",
    "\n",
    "plt.plot(arr)"
   ]
  },
  {
   "cell_type": "code",
   "execution_count": null,
   "metadata": {},
   "outputs": [],
   "source": []
  },
  {
   "cell_type": "code",
   "execution_count": null,
   "metadata": {},
   "outputs": [],
   "source": []
  },
  {
   "cell_type": "code",
   "execution_count": 4,
   "metadata": {},
   "outputs": [
    {
     "data": {
      "text/plain": [
       "0.28775"
      ]
     },
     "execution_count": 4,
     "metadata": {},
     "output_type": "execute_result"
    }
   ],
   "source": [
    "#type your code here:\n",
    "\n",
    "\n"
   ]
  },
  {
   "cell_type": "markdown",
   "metadata": {},
   "source": [
    "# Problem 2\n",
    "\n",
    "The probability of rain in a day is p = 0.5. Give the python code to simulate the probability of rain during weekend (**i.e rain on any one of the 2 weekend days Friday Or Saturday**) (assume independence between raining days). Compare the results with the theoretical probability."
   ]
  },
  {
   "cell_type": "code",
   "execution_count": 281,
   "metadata": {},
   "outputs": [
    {
     "name": "stdout",
     "output_type": "stream",
     "text": [
      "final Result is ..... :\n",
      " 0.748\n",
      "=============================================\n"
     ]
    },
    {
     "data": {
      "image/png": "[encoded data removed]",
      "text/plain": [
       "<Figure size 432x288 with 1 Axes>"
      ]
     },
     "metadata": {
      "needs_background": "light"
     },
     "output_type": "display_data"
    }
   ],
   "source": [
    "r = 0\n",
    "arr_rain = []\n",
    "\n",
    "no_weeks = 10000\n",
    "for i in range(no_weeks):\n",
    "    a = np.random.randint(2,size=7)\n",
    "    if a[5] == 1 or a[6] == 1:\n",
    "        r+=1\n",
    "        val_rain = r/(i+1)\n",
    "        arr_rain.append(val_rain)\n",
    "        \n",
    "result = r/no_weeks\n",
    "\n",
    "print('final Result is ..... :\\n',result)\n",
    "print('==='*15)\n",
    "\n",
    "\n",
    "plt.plot(arr_rain)\n",
    "\n",
    "plt.show()"
   ]
  },
  {
   "cell_type": "code",
   "execution_count": null,
   "metadata": {},
   "outputs": [],
   "source": []
  },
  {
   "cell_type": "code",
   "execution_count": 5,
   "metadata": {},
   "outputs": [
    {
     "data": {
      "text/plain": [
       "0.749331"
      ]
     },
     "execution_count": 5,
     "metadata": {},
     "output_type": "execute_result"
    }
   ],
   "source": [
    "#type your code here:\n"
   ]
  },
  {
   "cell_type": "markdown",
   "metadata": {},
   "source": [
    "# Problem 3\n",
    "Simulate Rolling a fair die $1000$ times. Then calculate the following:\n",
    "\n",
    "- Sample mean\n",
    "- Sample variance\n",
    "- Sample standard deviation\n",
    "\n",
    "Compare the results with the theoretical probability."
   ]
  },
  {
   "cell_type": "code",
   "execution_count": 222,
   "metadata": {},
   "outputs": [],
   "source": [
    "import math"
   ]
  },
  {
   "cell_type": "code",
   "execution_count": 240,
   "metadata": {},
   "outputs": [
    {
     "name": "stdout",
     "output_type": "stream",
     "text": [
      "Mean Value is ... \n",
      " 3.545\n",
      "============================================================\n",
      "Variance Value is ... \n",
      " 2.873975000000003\n",
      "============================================================\n",
      "Standarad Deviation Value is ... \n",
      " 1.6952802128261872\n",
      "============================================================\n"
     ]
    },
    {
     "data": {
      "image/png": "[encoded data removed]",
      "text/plain": [
       "<Figure size 432x288 with 1 Axes>"
      ]
     },
     "metadata": {
      "needs_background": "light"
     },
     "output_type": "display_data"
    },
    {
     "name": "stdout",
     "output_type": "stream",
     "text": [
      "======================= Check by python libraries | AGOOR ===============================\n",
      "Mean | Python ..... 3.545\n",
      "Variance | Python .... 2.8739749999999997\n",
      "St. dev. | Python ..... 1.6952802128261864\n"
     ]
    }
   ],
   "source": [
    "die = np.random.randint(1,7,size=1000)\n",
    "cum_sum = np.cumsum(die)\n",
    "\n",
    "arr_aver = []\n",
    "arr_var = []\n",
    "arr_std = []\n",
    "\n",
    "for i in range(len(die)):\n",
    "    aver_i = cum_sum[i]/(i+1)            # get the average at each i \n",
    "    arr_aver.append(aver_i)              #  append each value to this list to be able to be plotted\n",
    "    \n",
    "    var_num = 0                       # to enter J loop by zero each time \n",
    "    for j in range(len(arr_aver)):\n",
    "        var_num += (die[j] - arr_aver[i])**2\n",
    "    var_j = var_num/(i+1)\n",
    "    arr_std.append(math.sqrt(var_j))\n",
    "    arr_var.append(var_j)\n",
    "\n",
    "\n",
    "average = aver_i           # last Value or (arr_aver[-1])\n",
    "variance = var_j           # last Value or (arr_var[-1])\n",
    "st_dev = arr_std[-1]          # last Value \n",
    "\n",
    "\n",
    "print('Mean Value is ... \\n' , aver_i)\n",
    "print('=='*30)\n",
    "print('Variance Value is ... \\n' , var_j)\n",
    "print('=='*30)\n",
    "print('Standarad Deviation Value is ... \\n' , st_dev)\n",
    "print('=='*30)\n",
    "\n",
    "plt.title('Mean , Variance and Std  === Coded BY AGOOR ===')\n",
    "plt.plot(arr_aver , label = 'Mean')\n",
    "plt.plot(arr_var , label = 'Variance')\n",
    "plt.plot(arr_std , label = 'St. dev')\n",
    "\n",
    "plt.xlabel('times')\n",
    "plt.ylabel('values')\n",
    "plt.legend()\n",
    "plt.show()\n",
    "\n",
    "\n",
    "print('======================= Check by python libraries | AGOOR ===============================')\n",
    "\n",
    "# Check by python libraries\n",
    "m_py = np.mean(die)\n",
    "var_py = np.var(die)\n",
    "std_py = np.std(die)\n",
    "\n",
    "print('Mean | Python .....' , m_py)\n",
    "print('Variance | Python ....' , var_py)\n",
    "print('St. dev. | Python .....' , std_py)"
   ]
  },
  {
   "cell_type": "code",
   "execution_count": null,
   "metadata": {},
   "outputs": [],
   "source": []
  },
  {
   "cell_type": "code",
   "execution_count": null,
   "metadata": {},
   "outputs": [],
   "source": []
  },
  {
   "cell_type": "code",
   "execution_count": 6,
   "metadata": {},
   "outputs": [
    {
     "name": "stdout",
     "output_type": "stream",
     "text": [
      "Sample mean: 3.569\n",
      "Sample variance: 2.9041431431431435\n",
      "Sample standard deviation: 1.7041546711326245\n"
     ]
    }
   ],
   "source": [
    "#type your code here:\n"
   ]
  }
 ],
 "metadata": {
  "kernelspec": {
   "display_name": "Python 3",
   "language": "python",
   "name": "python3"
  },
  "language_info": {
   "codemirror_mode": {
    "name": "ipython",
    "version": 3
   },
   "file_extension": ".py",
   "mimetype": "text/x-python",
   "name": "python",
   "nbconvert_exporter": "python",
   "pygments_lexer": "ipython3",
   "version": "3.8.8"
  }
 },
 "nbformat": 4,
 "nbformat_minor": 4
}
